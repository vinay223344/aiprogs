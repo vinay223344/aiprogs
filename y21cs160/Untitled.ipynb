{
 "cells": [
  {
   "cell_type": "code",
   "execution_count": 56,
   "id": "4a42c474",
   "metadata": {},
   "outputs": [],
   "source": [
    "import numpy as np\n",
    "import scipy.stats as ss\n",
    "import math"
   ]
  },
  {
   "cell_type": "code",
   "execution_count": 54,
   "id": "5fbb4e3f",
   "metadata": {},
   "outputs": [],
   "source": [
    "def multiply(mat1, mat2):\n",
    "    a = [mat1.tolist()] if mat1.ndim==1 else mat1.tolist()\n",
    "    b = mat2.tolist()\n",
    "    if len(a[0]) != len(b):\n",
    "        print('Cannot multily the matrices')\n",
    "        print(a)\n",
    "        print(b)\n",
    "        return None\n",
    "    c = [[0 for i in range(len(b[0]))] for j in range(len(a))]\n",
    "    for i in range(len(a)):\n",
    "        for j in range(len(b[0])):\n",
    "            for k in range(len(b)):\n",
    "                c[i][j] += a[i][k] * b[k][j]\n",
    "    c = np.array(c)\n",
    "    return c"
   ]
  },
  {
   "cell_type": "code",
   "execution_count": 51,
   "id": "8bb4c17c",
   "metadata": {},
   "outputs": [],
   "source": [
    "def transpose(mat1):\n",
    "    if mat1.ndim==1: mat=np.array([mat1.tolist()])\n",
    "    else: mat=mat1\n",
    "    result = np.zeros((mat.shape[1],mat.shape[0]))\n",
    "    for i in range(mat.shape[0]):\n",
    "   # iterate through columns\n",
    "       for j in range(mat.shape[1]):\n",
    "           result[j, i] = mat[i, j]\n",
    "    return result"
   ]
  },
  {
   "cell_type": "code",
   "execution_count": 6,
   "id": "28de8fca",
   "metadata": {},
   "outputs": [],
   "source": [
    "def recursiveDet(mat):\n",
    "    if mat.shape == (1,1):\n",
    "        return mat[0]\n",
    "    elif mat.shape == (2,2):\n",
    "        return mat[0,0]*mat[1,1] - mat[0,1]*mat[1,0]\n",
    "    total = 0\n",
    "    for c in range(mat.shape[0]):\n",
    "        matCopy = np.copy(mat)\n",
    "        matCopy = matCopy[1:]\n",
    "        matCopy = np.delete(matCopy, c, 1)\n",
    "        sign = (-1)**(c%2)\n",
    "        sub_det = recursiveDet(matCopy)\n",
    "        total += sign*mat[0, c]*sub_det\n",
    "    return total"
   ]
  },
  {
   "cell_type": "code",
   "execution_count": 24,
   "id": "23184854",
   "metadata": {},
   "outputs": [],
   "source": [
    "def myInv(mat):\n",
    "    det = recursiveDet(mat)\n",
    "    adj = np.zeros(mat.shape, dtype=float)\n",
    "    for r in range(mat.shape[0]):\n",
    "        matC = np.copy(mat)\n",
    "        matC = np.delete(matC, r, 0)\n",
    "        for c in range(matC.shape[1]):\n",
    "            matC2 = np.delete(matC, c, 1)\n",
    "            adj[r, c] = ((-1)**((r+c)%2)) * recursiveDet(matC2)\n",
    "    adj = adj/det\n",
    "    return adj"
   ]
  },
  {
   "cell_type": "code",
   "execution_count": 69,
   "id": "13580a97",
   "metadata": {},
   "outputs": [],
   "source": [
    "def discriminant(mewi, cinv, obsv, prop):\n",
    "    v1 = multiply(multiply(mewi, cinv), obsv)\n",
    "    v2 = 0.5*multiply(multiply(mewi, cinv), transpose(mewi))\n",
    "    v3 = math.log(prop)\n",
    "    f = v1[0,0] - v2[0,0] + v3\n",
    "    return f"
   ]
  },
  {
   "cell_type": "code",
   "execution_count": 72,
   "id": "2ae1f28d",
   "metadata": {
    "scrolled": false
   },
   "outputs": [
    {
     "name": "stdout",
     "output_type": "stream",
     "text": [
      "Enter the number of variables: 2\n",
      "Enter the number of classes: 3\n",
      "Enter the number of observations: 9\n",
      "Enter the proportions of the classes: 0.25 0.25 0.5\n",
      "Enter number of observations in class1: 3\n",
      "Enter the observations: -2 5\n",
      "Enter the observations: 0 3\n",
      "Enter the observations: -1 1\n",
      "Enter number of observations in class2: 3\n",
      "Enter the observations: 0 6\n",
      "Enter the observations: 2 4\n",
      "Enter the observations: 1 2\n",
      "Enter number of observations in class3: 3\n",
      "Enter the observations: 1 -2\n",
      "Enter the observations: 0 0\n",
      "Enter the observations: -1 -4\n",
      "Enter the observations to classify: -2 -1\n",
      "f3 (-0.7281) is the highest value, hence the observation belongs to class3\n"
     ]
    }
   ],
   "source": [
    "p = int(input(\"Enter the number of variables: \"))\n",
    "g = int(input(\"Enter the number of classes: \"))\n",
    "n = int(input(\"Enter the number of observations: \"))\n",
    "props = np.array([float(i) for i in input(\"Enter the proportions of the classes: \").split()])\n",
    "# p, g, n = 2, 3, 9\n",
    "# props = np.array([0.25, 0.25, 0.5])\n",
    "\n",
    "mewx = np.zeros((1,p), dtype=float)\n",
    "mewi = np.zeros((g,p), dtype=float)\n",
    "x = np.empty((0,p), dtype=float)\n",
    "\n",
    "for i in range(g):\n",
    "    ni = int(input(f\"Enter number of observations in class{i+1}: \"))\n",
    "    for j in range(ni):\n",
    "        xvar = np.array([float(k) for k in input(\"Enter the observations: \").split()])\n",
    "        mewx += xvar\n",
    "        mewi[i] += xvar\n",
    "        x = np.vstack((x, xvar))\n",
    "    mewi[i] /= ni\n",
    "mewx /= n\n",
    "\n",
    "obsv = np.array([[float(i)] for i in input(\"Enter the observations to classify: \").split()])\n",
    "\n",
    "xmew = (x-mewx)\n",
    "\n",
    "c = np.array([[sum(xmew[:,0]**2), sum(xmew[:,0]*xmew[:,1])], [sum(xmew[:,0]*xmew[:,1]), sum(xmew[:,1]**2)]])\n",
    "c /= n\n",
    "cinv = myInv(c)\n",
    "\n",
    "f = np.zeros((g,), dtype=float)\n",
    "for i in range(g):\n",
    "    f[i] += discriminant(mewi[i], cinv, obsv, props[i])\n",
    "\n",
    "ele, pos = np.max(f), np.argmax(f)+1\n",
    "print(f'f{pos} ({round(f[pos-1], 4)}) is the highest value, hence the observation belongs to class{pos}')"
   ]
  }
 ],
 "metadata": {
  "kernelspec": {
   "display_name": "Python 3 (ipykernel)",
   "language": "python",
   "name": "python3"
  },
  "language_info": {
   "codemirror_mode": {
    "name": "ipython",
    "version": 3
   },
   "file_extension": ".py",
   "mimetype": "text/x-python",
   "name": "python",
   "nbconvert_exporter": "python",
   "pygments_lexer": "ipython3",
   "version": "3.9.7"
  }
 },
 "nbformat": 4,
 "nbformat_minor": 5
}
